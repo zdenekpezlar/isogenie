{
 "cells": [
  {
   "cell_type": "code",
   "execution_count": 13,
   "metadata": {},
   "outputs": [],
   "source": []
  },
  {
   "cell_type": "code",
   "execution_count": 8,
   "metadata": {},
   "outputs": [],
   "source": [
    "def gen(E,ll,e,m,n,P,Q,PP,QQ):\n",
    "    G = m*P + n*Q\n",
    "    EE = E\n",
    "    Pi = PP\n",
    "    Qi = QQ\n",
    "    \n",
    "    for i in range(0,e):\n",
    "            K = (ll^(e-1-i))*G\n",
    "            iso = EllipticCurveIsogeny(EE,K)\n",
    "            EE = iso.codomain()\n",
    "            Pi = iso(Pi)\n",
    "            Qi = iso(Qi)\n",
    "            G = iso(G)\n",
    "    \n",
    "    return EE, Pi, Qi"
   ]
  },
  {
   "cell_type": "code",
   "execution_count": null,
   "metadata": {},
   "outputs": [],
   "source": [
    "def key(E,ll,e,m,n,P,Q):\n",
    "    G = m*P + n*Q\n",
    "    EE = E\n",
    "    \n",
    "    for i in range(0,e):\n",
    "        K = (ll^(e-1-i))*G\n",
    "        iso = EllipticCurveIsogeny(EE,K)\n",
    "        EE = iso.codomain()\n",
    "        G = iso(G)\n",
    "        \n",
    "    return EE.j_invariant()\n",
    "    "
   ]
  },
  {
   "cell_type": "code",
   "execution_count": 15,
   "metadata": {},
   "outputs": [],
   "source": [
    "lA = 2\n",
    "lB = 3\n",
    "eA = 4\n",
    "eB = 3\n",
    "p = (lA^(eA)) * (lB^(eB)) - 1"
   ]
  },
  {
   "cell_type": "code",
   "execution_count": 16,
   "metadata": {},
   "outputs": [],
   "source": [
    "F.<z> = GF(p^2, modulus=x^2+1)"
   ]
  },
  {
   "cell_type": "code",
   "execution_count": 18,
   "metadata": {},
   "outputs": [],
   "source": [
    "E = EllipticCurve([F(1), F(0)])"
   ]
  },
  {
   "cell_type": "code",
   "execution_count": null,
   "metadata": {},
   "outputs": [],
   "source": []
  }
 ],
 "metadata": {
  "kernelspec": {
   "display_name": "SageMath 9.0",
   "language": "sage",
   "name": "sagemath"
  },
  "language_info": {
   "codemirror_mode": {
    "name": "ipython",
    "version": 3
   },
   "file_extension": ".py",
   "mimetype": "text/x-python",
   "name": "python",
   "nbconvert_exporter": "python",
   "pygments_lexer": "ipython3",
   "version": "3.7.3"
  }
 },
 "nbformat": 4,
 "nbformat_minor": 2
}
