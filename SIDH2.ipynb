{
 "cells": [
  {
   "cell_type": "code",
   "execution_count": 57,
   "metadata": {},
   "outputs": [],
   "source": [
    "lA = 2\n",
    "lB = 3\n",
    "eA = 4\n",
    "eB = 3\n",
    "p = (lA^(eA)) * (lB^(eB)) - 1 #zakladni parametry"
   ]
  },
  {
   "cell_type": "code",
   "execution_count": 2,
   "metadata": {},
   "outputs": [],
   "source": [
    "F.<z> = GF(p^2, modulus=x^2+1)"
   ]
  },
  {
   "cell_type": "code",
   "execution_count": 6,
   "metadata": {},
   "outputs": [
    {
     "data": {
      "text/plain": [
       "Elliptic Curve defined by y^2 = x^3 + x over Finite Field in z of size 431^2"
      ]
     },
     "execution_count": 6,
     "metadata": {},
     "output_type": "execute_result"
    }
   ],
   "source": [
    "E = EllipticCurve([F(1), F(0)])"
   ]
  },
  {
   "cell_type": "code",
   "execution_count": 61,
   "metadata": {},
   "outputs": [],
   "source": [
    "Gen1A = (lB^(eB)) * E.gens()[0]\n",
    "Gen2A = (lB^(eB)) * E.gens()[1] #generatory l_A^(eA) torze\n",
    "Gen1B = (lA^(eA)) * E.gens()[0]\n",
    "Gen2B = (lB^(eA)) * E.gens()[1]"
   ]
  },
  {
   "cell_type": "code",
   "execution_count": 59,
   "metadata": {},
   "outputs": [],
   "source": [
    "########\n",
    "#generace verejneho klice. prvni vystup je obraz krivky, dalsi dva obrazy generatoru druhe strany\n",
    "########\n",
    "def public(E,ll,e,m,n,P,Q,PP,QQ): \n",
    "    G = m*P + n*Q\n",
    "    EE = E\n",
    "    Pi = PP\n",
    "    Qi = QQ\n",
    "    \n",
    "    for i in range(0,e):\n",
    "            K = (ll^(e-1-i))*G\n",
    "            iso = EllipticCurveIsogeny(EE,K)\n",
    "            EE = iso.codomain()\n",
    "            Pi = iso(Pi)\n",
    "            Qi = iso(Qi)\n",
    "            G = iso(G)\n",
    "    \n",
    "    return EE, Pi, Qi"
   ]
  },
  {
   "cell_type": "code",
   "execution_count": 60,
   "metadata": {},
   "outputs": [],
   "source": [
    "########\n",
    "#generace soukromeho klice. P,Q jsou obrazy generatoru druhe strany vymeny\n",
    "########\n",
    "def key(E,ll,e,m,n,P,Q): \n",
    "    G = m*P + n*Q\n",
    "    EE = E\n",
    "    \n",
    "    for i in range(0,e):\n",
    "        K = (ll^(e-1-i))*G\n",
    "        iso = EllipticCurveIsogeny(EE,K)\n",
    "        EE = iso.codomain()\n",
    "        G = iso(G)\n",
    "        \n",
    "    return EE.j_invariant() "
   ]
  },
  {
   "cell_type": "code",
   "execution_count": 73,
   "metadata": {},
   "outputs": [],
   "source": [
    "########\n",
    "#samotna vymena\n",
    "########\n",
    "\n",
    "def publicA(mA,nA): \n",
    "    return public(E,lA,eA,mA,nA,Gen1A,Gen2A,Gen1B,Gen2B)"
   ]
  },
  {
   "cell_type": "code",
   "execution_count": 74,
   "metadata": {},
   "outputs": [],
   "source": [
    "def publicB(mB,nB):\n",
    "    return public(E,lB,eB,mB,nB,Gen1B,Gen2B,Gen1A,Gen2A)"
   ]
  },
  {
   "cell_type": "code",
   "execution_count": 75,
   "metadata": {},
   "outputs": [],
   "source": [
    "def keyA(mA,nA,E,P,Q): #E,P,Q jsou po řadě všechny vystupy publicB\n",
    "    return key(E,lA,eA,mA,nA,P,Q) "
   ]
  },
  {
   "cell_type": "code",
   "execution_count": 76,
   "metadata": {},
   "outputs": [],
   "source": [
    "def keyB(mB,nB,E,P,Q):\n",
    "    return key(E,lB,eB,mB,nB,P,Q) "
   ]
  },
  {
   "cell_type": "code",
   "execution_count": 77,
   "metadata": {},
   "outputs": [],
   "source": [
    "def test(E,mA,nA,mB,nB):\n",
    "    pA = publicA(mA,nA)\n",
    "    pB = publicB(mB,nB)\n",
    "    testkeyA = keyA(mA,nA,pB[0],pB[1],pB[2])\n",
    "    testkeyB = keyB(mB,nB,pA[0],pA[1],pA[2])\n",
    "    if testkeyA == testkeyB:\n",
    "        return \"jo\"\n",
    "    else:\n",
    "        return \"rip\""
   ]
  },
  {
   "cell_type": "code",
   "execution_count": 78,
   "metadata": {},
   "outputs": [
    {
     "data": {
      "text/plain": [
       "'jo'"
      ]
     },
     "execution_count": 78,
     "metadata": {},
     "output_type": "execute_result"
    }
   ],
   "source": [
    "test(E,3,4,5,6)"
   ]
  },
  {
   "cell_type": "code",
   "execution_count": null,
   "metadata": {},
   "outputs": [],
   "source": []
  }
 ],
 "metadata": {
  "kernelspec": {
   "display_name": "SageMath 9.0",
   "language": "sage",
   "name": "sagemath"
  },
  "language_info": {
   "codemirror_mode": {
    "name": "ipython",
    "version": 3
   },
   "file_extension": ".py",
   "mimetype": "text/x-python",
   "name": "python",
   "nbconvert_exporter": "python",
   "pygments_lexer": "ipython3",
   "version": "3.7.3"
  }
 },
 "nbformat": 4,
 "nbformat_minor": 2
}
