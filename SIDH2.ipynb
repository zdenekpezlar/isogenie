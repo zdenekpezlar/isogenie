{
 "cells": [
  {
   "cell_type": "code",
   "execution_count": 2,
   "metadata": {},
   "outputs": [],
   "source": [
    "########\n",
    "#Base parameters\n",
    "########\n",
    "\n",
    "lA = 2\n",
    "lB = 3\n",
    "eA = 4\n",
    "eB = 3\n",
    "p = (lA^(eA)) * (lB^(eB)) - 1 "
   ]
  },
  {
   "cell_type": "code",
   "execution_count": 3,
   "metadata": {},
   "outputs": [],
   "source": [
    "F.<z> = GF(p^2, modulus=x^2+1)"
   ]
  },
  {
   "cell_type": "code",
   "execution_count": 4,
   "metadata": {},
   "outputs": [],
   "source": [
    "E = EllipticCurve([F(1), F(0)])"
   ]
  },
  {
   "cell_type": "code",
   "execution_count": 5,
   "metadata": {},
   "outputs": [],
   "source": [
    "########\n",
    "#Setting up the respective generators\n",
    "########\n",
    "\n",
    "Gen1A = (lB^(eB)) * E.gens()[0]\n",
    "Gen2A = (lB^(eB)) * E.gens()[1] #l_A^(eA) torsion generators\n",
    "Gen1B = (lA^(eA)) * E.gens()[0]\n",
    "Gen2B = (lB^(eA)) * E.gens()[1] #l_B^(eB) torsion generators"
   ]
  },
  {
   "cell_type": "code",
   "execution_count": 6,
   "metadata": {},
   "outputs": [],
   "source": [
    "########\n",
    "#Public key generation. The last two input points are the other party's basis points. The first output is the image curve, the latter two are the the public basis point images.\n",
    "########\n",
    "def public(E,ll,e,m,n,P,Q,PP,QQ): \n",
    "    G = m*P + n*Q\n",
    "    EE = E\n",
    "    Pi = PP\n",
    "    Qi = QQ\n",
    "    \n",
    "    for i in range(0,e):\n",
    "            K = (ll^(e-1-i))*G\n",
    "            iso = EllipticCurveIsogeny(EE,K)\n",
    "            EE = iso.codomain()\n",
    "            Pi = iso(Pi)\n",
    "            Qi = iso(Qi)\n",
    "            G = iso(G)\n",
    "    \n",
    "    return EE, Pi, Qi"
   ]
  },
  {
   "cell_type": "code",
   "execution_count": 7,
   "metadata": {},
   "outputs": [],
   "source": [
    "########\n",
    "#Private key generation. The input curve is the other party's image curve. The last two input points are the public points. \n",
    "########\n",
    "def key(E,ll,e,m,n,P,Q): \n",
    "    G = m*P + n*Q\n",
    "    EE = E\n",
    "    \n",
    "    for i in range(0,e):\n",
    "        K = (ll^(e-1-i))*G\n",
    "        iso = EllipticCurveIsogeny(EE,K)\n",
    "        EE = iso.codomain()\n",
    "        G = iso(G)\n",
    "        \n",
    "    return EE.j_invariant() "
   ]
  },
  {
   "cell_type": "code",
   "execution_count": 8,
   "metadata": {},
   "outputs": [],
   "source": [
    "########\n",
    "#Setting up the exchange\n",
    "########"
   ]
  },
  {
   "cell_type": "code",
   "execution_count": 9,
   "metadata": {},
   "outputs": [],
   "source": [
    "########\n",
    "#Initiator public key generation\n",
    "########\n",
    "\n",
    "def publicA(mA,nA): \n",
    "    return public(E,lA,eA,mA,nA,Gen1A,Gen2A,Gen1B,Gen2B)"
   ]
  },
  {
   "cell_type": "code",
   "execution_count": 10,
   "metadata": {},
   "outputs": [],
   "source": [
    "########\n",
    "#Responder public key generation\n",
    "########\n",
    "\n",
    "def publicB(mB,nB):\n",
    "    return public(E,lB,eB,mB,nB,Gen1B,Gen2B,Gen1A,Gen2A)"
   ]
  },
  {
   "cell_type": "code",
   "execution_count": 11,
   "metadata": {},
   "outputs": [],
   "source": [
    "########\n",
    "#Initiator private key generation\n",
    "########\n",
    "\n",
    "def keyA(mA,nA,E,P,Q): #Where the outputs of the public key are E,P,Q respectively \n",
    "    return key(E,lA,eA,mA,nA,P,Q) "
   ]
  },
  {
   "cell_type": "code",
   "execution_count": 12,
   "metadata": {},
   "outputs": [],
   "source": [
    "########\n",
    "#Responder private key generation\n",
    "########\n",
    "\n",
    "def keyB(mB,nB,E,P,Q):\n",
    "    return key(E,lB,eB,mB,nB,P,Q) "
   ]
  },
  {
   "cell_type": "code",
   "execution_count": 13,
   "metadata": {},
   "outputs": [],
   "source": [
    "########\n",
    "#Exchange testing\n",
    "########\n",
    "\n",
    "def test(E,mA,nA,mB,nB):\n",
    "    pA = publicA(mA,nA)\n",
    "    pB = publicB(mB,nB)\n",
    "    testkeyA = keyA(mA,nA,pB[0],pB[1],pB[2])\n",
    "    testkeyB = keyB(mB,nB,pA[0],pA[1],pA[2])\n",
    "    if testkeyA == testkeyB:\n",
    "        return \"success\", testkeyA\n",
    "    else:\n",
    "        return \"something has gone wrong\""
   ]
  },
  {
   "cell_type": "code",
   "execution_count": 14,
   "metadata": {},
   "outputs": [
    {
     "data": {
      "text/plain": [
       "('success', 125*z + 426)"
      ]
     },
     "execution_count": 14,
     "metadata": {},
     "output_type": "execute_result"
    }
   ],
   "source": [
    "test(E,3,4,5,6)"
   ]
  },
  {
   "cell_type": "code",
   "execution_count": null,
   "metadata": {},
   "outputs": [],
   "source": []
  }
 ],
 "metadata": {
  "kernelspec": {
   "display_name": "SageMath 9.0",
   "language": "sage",
   "name": "sagemath"
  },
  "language_info": {
   "codemirror_mode": {
    "name": "ipython",
    "version": 3
   },
   "file_extension": ".py",
   "mimetype": "text/x-python",
   "name": "python",
   "nbconvert_exporter": "python",
   "pygments_lexer": "ipython3",
   "version": "3.7.3"
  }
 },
 "nbformat": 4,
 "nbformat_minor": 2
}
